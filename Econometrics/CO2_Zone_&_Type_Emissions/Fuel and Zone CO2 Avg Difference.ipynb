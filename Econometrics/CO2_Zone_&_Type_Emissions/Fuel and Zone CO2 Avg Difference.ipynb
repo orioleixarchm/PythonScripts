{
 "cells": [
  {
   "cell_type": "code",
   "execution_count": 1,
   "id": "a26b44e1-d5e9-40b1-9518-f365f575236c",
   "metadata": {
    "executionCancelledAt": null,
    "executionTime": 4283,
    "lastExecutedAt": 1743712599554,
    "lastExecutedByKernel": "51b4093a-0001-4d25-bff6-9260a2bcc9bf",
    "lastScheduledRunId": null,
    "lastSuccessfullyExecutedCode": "# Import required libraries\nimport pandas as pd\nimport seaborn as sns\nimport numpy as np\nimport matplotlib.pyplot as plt\nfrom scipy.stats import f_oneway, ttest_ind\nfrom statsmodels.sandbox.stats.multicomp import multipletests\n\n# Load datasets\nenergy_design_a = pd.read_csv(\"energy_design_a.csv\")\nenergy_design_b = pd.read_csv(\"energy_design_b.csv\")"
   },
   "outputs": [],
   "source": [
    "# Import required libraries\n",
    "import pandas as pd\n",
    "import seaborn as sns\n",
    "import numpy as np\n",
    "import matplotlib.pyplot as plt\n",
    "from scipy.stats import f_oneway, ttest_ind\n",
    "from statsmodels.sandbox.stats.multicomp import multipletests\n",
    "\n",
    "# Load datasets\n",
    "energy_design_a = pd.read_csv(\"energy_design_a.csv\")\n",
    "energy_design_b = pd.read_csv(\"energy_design_b.csv\")"
   ]
  },
  {
   "cell_type": "code",
   "execution_count": null,
   "id": "17faa44f-f4ee-4eaf-a064-f6c64148accd",
   "metadata": {
    "executionCancelledAt": null,
    "executionTime": null,
    "lastExecutedAt": null,
    "lastExecutedByKernel": null,
    "lastScheduledRunId": null,
    "lastSuccessfullyExecutedCode": null,
    "outputsMetadata": {
     "0": {
      "height": 222,
      "tableState": {
       "customFilter": {
        "const": {
         "type": "boolean",
         "valid": true,
         "value": true
        },
        "id": "0fdb0f5a-bfff-4a0f-a6ee-11cb79aab1d5",
        "nodeType": "const"
       }
      },
      "type": "dataFrame"
     }
    }
   },
   "outputs": [
    {
     "data": {
      "application/com.datacamp.data-table.v2+json": {
       "table": {
        "data": {
         "Building_Type": [
          "Residential",
          "Commercial",
          "Commercial",
          "Residential",
          "Commercial"
         ],
         "Energy_Usage": [
          576.9977359931,
          626.8389522404,
          542.4486244056,
          594.0535584962,
          413.2358910021
         ],
         "Fuel_Source": [
          "Natural_Gas",
          "Biofuel",
          "Natural_Gas",
          "Natural_Gas",
          "Natural_Gas"
         ],
         "index": [
          0,
          1,
          2,
          3,
          4
         ]
        },
        "schema": {
         "fields": [
          {
           "name": "index",
           "type": "integer"
          },
          {
           "name": "Fuel_Source",
           "type": "string"
          },
          {
           "name": "Building_Type",
           "type": "string"
          },
          {
           "name": "Energy_Usage",
           "type": "number"
          }
         ],
         "pandas_version": "1.4.0",
         "primaryKey": [
          "index"
         ]
        }
       },
       "total_rows": 5,
       "truncation_type": null
      },
      "text/html": [
       "<div>\n",
       "<style scoped>\n",
       "    .dataframe tbody tr th:only-of-type {\n",
       "        vertical-align: middle;\n",
       "    }\n",
       "\n",
       "    .dataframe tbody tr th {\n",
       "        vertical-align: top;\n",
       "    }\n",
       "\n",
       "    .dataframe thead th {\n",
       "        text-align: right;\n",
       "    }\n",
       "</style>\n",
       "<table border=\"1\" class=\"dataframe\">\n",
       "  <thead>\n",
       "    <tr style=\"text-align: right;\">\n",
       "      <th></th>\n",
       "      <th>Fuel_Source</th>\n",
       "      <th>Building_Type</th>\n",
       "      <th>Energy_Usage</th>\n",
       "    </tr>\n",
       "  </thead>\n",
       "  <tbody>\n",
       "    <tr>\n",
       "      <th>0</th>\n",
       "      <td>Natural_Gas</td>\n",
       "      <td>Residential</td>\n",
       "      <td>576.997736</td>\n",
       "    </tr>\n",
       "    <tr>\n",
       "      <th>1</th>\n",
       "      <td>Biofuel</td>\n",
       "      <td>Commercial</td>\n",
       "      <td>626.838952</td>\n",
       "    </tr>\n",
       "    <tr>\n",
       "      <th>2</th>\n",
       "      <td>Natural_Gas</td>\n",
       "      <td>Commercial</td>\n",
       "      <td>542.448624</td>\n",
       "    </tr>\n",
       "    <tr>\n",
       "      <th>3</th>\n",
       "      <td>Natural_Gas</td>\n",
       "      <td>Residential</td>\n",
       "      <td>594.053558</td>\n",
       "    </tr>\n",
       "    <tr>\n",
       "      <th>4</th>\n",
       "      <td>Natural_Gas</td>\n",
       "      <td>Commercial</td>\n",
       "      <td>413.235891</td>\n",
       "    </tr>\n",
       "  </tbody>\n",
       "</table>\n",
       "</div>"
      ],
      "text/plain": [
       "   Fuel_Source Building_Type  Energy_Usage\n",
       "0  Natural_Gas   Residential    576.997736\n",
       "1      Biofuel    Commercial    626.838952\n",
       "2  Natural_Gas    Commercial    542.448624\n",
       "3  Natural_Gas   Residential    594.053558\n",
       "4  Natural_Gas    Commercial    413.235891"
      ]
     },
     "execution_count": 55,
     "metadata": {
      "application/com.datacamp.data-table.v2+json": {
       "status": "success"
      }
     },
     "output_type": "execute_result"
    }
   ],
   "source": [
    "# Start coding here (use as many cells as you need)\n",
    "energy_design_a.head()"
   ]
  },
  {
   "cell_type": "code",
   "execution_count": 56,
   "id": "6d615ef5-5343-4c2a-b0f4-11e34f283a23",
   "metadata": {
    "executionCancelledAt": null,
    "executionTime": null,
    "lastExecutedAt": null,
    "lastExecutedByKernel": null,
    "lastScheduledRunId": null,
    "lastSuccessfullyExecutedCode": null,
    "outputsMetadata": {
     "0": {
      "height": 550,
      "tableState": {
       "customFilter": {
        "const": {
         "type": "boolean",
         "valid": true,
         "value": true
        },
        "id": "0fdb0f5a-bfff-4a0f-a6ee-11cb79aab1d5",
        "nodeType": "const"
       }
      },
      "type": "dataFrame"
     }
    }
   },
   "outputs": [
    {
     "data": {
      "application/com.datacamp.data-table.v2+json": {
       "table": {
        "data": {
         "CO2_Emissions": [
          11.490142459,
          9.5852070965,
          11.9430656143,
          14.5690895692,
          9.2975398758
         ],
         "Fuel_Source": [
          "Natural_Gas",
          "Natural_Gas",
          "Natural_Gas",
          "Natural_Gas",
          "Natural_Gas"
         ],
         "Geographical_Region": [
          "North",
          "North",
          "North",
          "North",
          "North"
         ],
         "index": [
          0,
          1,
          2,
          3,
          4
         ]
        },
        "schema": {
         "fields": [
          {
           "name": "index",
           "type": "integer"
          },
          {
           "name": "Geographical_Region",
           "type": "string"
          },
          {
           "name": "Fuel_Source",
           "type": "string"
          },
          {
           "name": "CO2_Emissions",
           "type": "number"
          }
         ],
         "pandas_version": "1.4.0",
         "primaryKey": [
          "index"
         ]
        }
       },
       "total_rows": 5,
       "truncation_type": null
      },
      "text/html": [
       "<div>\n",
       "<style scoped>\n",
       "    .dataframe tbody tr th:only-of-type {\n",
       "        vertical-align: middle;\n",
       "    }\n",
       "\n",
       "    .dataframe tbody tr th {\n",
       "        vertical-align: top;\n",
       "    }\n",
       "\n",
       "    .dataframe thead th {\n",
       "        text-align: right;\n",
       "    }\n",
       "</style>\n",
       "<table border=\"1\" class=\"dataframe\">\n",
       "  <thead>\n",
       "    <tr style=\"text-align: right;\">\n",
       "      <th></th>\n",
       "      <th>Geographical_Region</th>\n",
       "      <th>Fuel_Source</th>\n",
       "      <th>CO2_Emissions</th>\n",
       "    </tr>\n",
       "  </thead>\n",
       "  <tbody>\n",
       "    <tr>\n",
       "      <th>0</th>\n",
       "      <td>North</td>\n",
       "      <td>Natural_Gas</td>\n",
       "      <td>11.490142</td>\n",
       "    </tr>\n",
       "    <tr>\n",
       "      <th>1</th>\n",
       "      <td>North</td>\n",
       "      <td>Natural_Gas</td>\n",
       "      <td>9.585207</td>\n",
       "    </tr>\n",
       "    <tr>\n",
       "      <th>2</th>\n",
       "      <td>North</td>\n",
       "      <td>Natural_Gas</td>\n",
       "      <td>11.943066</td>\n",
       "    </tr>\n",
       "    <tr>\n",
       "      <th>3</th>\n",
       "      <td>North</td>\n",
       "      <td>Natural_Gas</td>\n",
       "      <td>14.569090</td>\n",
       "    </tr>\n",
       "    <tr>\n",
       "      <th>4</th>\n",
       "      <td>North</td>\n",
       "      <td>Natural_Gas</td>\n",
       "      <td>9.297540</td>\n",
       "    </tr>\n",
       "  </tbody>\n",
       "</table>\n",
       "</div>"
      ],
      "text/plain": [
       "  Geographical_Region  Fuel_Source  CO2_Emissions\n",
       "0               North  Natural_Gas      11.490142\n",
       "1               North  Natural_Gas       9.585207\n",
       "2               North  Natural_Gas      11.943066\n",
       "3               North  Natural_Gas      14.569090\n",
       "4               North  Natural_Gas       9.297540"
      ]
     },
     "execution_count": 56,
     "metadata": {
      "application/com.datacamp.data-table.v2+json": {
       "status": "success"
      }
     },
     "output_type": "execute_result"
    }
   ],
   "source": [
    "energy_design_b.head()"
   ]
  },
  {
   "cell_type": "code",
   "execution_count": 58,
   "id": "09e3823a-4a27-4e31-8b37-3b7173f23544",
   "metadata": {
    "executionCancelledAt": null,
    "executionTime": 473,
    "lastExecutedAt": 1743669883037,
    "lastExecutedByKernel": "7cd15520-edb7-47d9-a86f-4f520aa765db",
    "lastScheduledRunId": null,
    "lastSuccessfullyExecutedCode": "#Visuals\nsns.barplot(data=energy_design_b, x='Geographical_Region', y='CO2_Emissions', hue='Fuel_Source')\nplt.title('Emissions Per Region and Source')\nplt.ylabel('Tones of C02')\nplt.xlabel('Geographical Region')\nplt.show()"
   },
   "outputs": [
    {
     "data": {
      "image/png": "[encoded data removed]",
      "text/plain": [
       "<Figure size 640x480 with 1 Axes>"
      ]
     },
     "metadata": {
      "image/png": {
       "height": 454,
       "width": 562
      }
     },
     "output_type": "display_data"
    }
   ],
   "source": [
    "#Visuals\n",
    "sns.barplot(data=energy_design_b, x='Geographical_Region', y='CO2_Emissions', hue='Fuel_Source')\n",
    "plt.title('Emissions Per Region and Source')\n",
    "plt.ylabel('Tones of C02')\n",
    "plt.xlabel('Geographical Region')\n",
    "plt.show()"
   ]
  },
  {
   "cell_type": "code",
   "execution_count": 2,
   "id": "2918c8d4-d62b-4967-9423-0ae936473eb0",
   "metadata": {
    "executionCancelledAt": null,
    "executionTime": 15,
    "lastExecutedAt": 1743712603288,
    "lastExecutedByKernel": "51b4093a-0001-4d25-bff6-9260a2bcc9bf",
    "lastScheduledRunId": null,
    "lastSuccessfullyExecutedCode": "#Finding maximums\ngrouped_data = energy_design_b.groupby(['Geographical_Region','Fuel_Source'])\nhighest_co2_region = grouped_data.median().idxmax()[0][0]\nhighest_co2_source = grouped_data.median().idxmax()[0][1]",
    "outputsMetadata": {
     "0": {
      "height": 38,
      "type": "stream"
     }
    }
   },
   "outputs": [],
   "source": [
    "#Finding maximums\n",
    "grouped_data = energy_design_b.groupby(['Geographical_Region','Fuel_Source'])\n",
    "highest_co2_region = grouped_data.median().idxmax()[0][0]\n",
    "highest_co2_source = grouped_data.median().idxmax()[0][1]"
   ]
  },
  {
   "cell_type": "code",
   "execution_count": 3,
   "id": "4163f7bc-9f60-47a4-ae5e-c6d10929ac48",
   "metadata": {
    "executionCancelledAt": null,
    "executionTime": 28,
    "lastExecutedAt": 1743712605189,
    "lastExecutedByKernel": "51b4093a-0001-4d25-bff6-9260a2bcc9bf",
    "lastScheduledRunId": null,
    "lastSuccessfullyExecutedCode": "#One Way ANOVA f_oneway\ngrouped_data = energy_design_b.groupby(['Geographical_Region'])\ntest_results = pd.DataFrame(\n    grouped_data.apply(\n        lambda x: f_oneway(\n            x.loc[x['Fuel_Source']=='Natural_Gas','CO2_Emissions'],\n            x.loc[x['Fuel_Source']=='Biofuel','CO2_Emissions'],\n            x.loc[x['Fuel_Source']=='Coal','CO2_Emissions'],\n        )\n    )\n).rename(columns={0:'F_Statistic / P_Value'})\nprint('Test results:')\ntest_results",
    "outputsMetadata": {
     "0": {
      "height": 38,
      "type": "stream"
     },
     "1": {
      "height": 50,
      "tableState": {
       "customFilter": {
        "const": {
         "type": "boolean",
         "valid": true,
         "value": true
        },
        "id": "0fdb0f5a-bfff-4a0f-a6ee-11cb79aab1d5",
        "nodeType": "const"
       }
      },
      "type": "dataFrame"
     }
    }
   },
   "outputs": [
    {
     "name": "stdout",
     "output_type": "stream",
     "text": [
      "Test results:\n"
     ]
    },
    {
     "data": {
      "application/com.datacamp.data-table.v2+json": {
       "table": {
        "data": {
         "F_Statistic / P_Value": [
          [
           50.4975764792,
           7.05e-8
          ],
          [
           45.7223176454,
           1.444e-7
          ],
          [
           15.2909833948,
           0.0001586922
          ],
          [
           12.9497174421,
           0.0003828049
          ]
         ],
         "Geographical_Region": [
          "East",
          "North",
          "South",
          "West"
         ]
        },
        "schema": {
         "fields": [
          {
           "name": "Geographical_Region",
           "type": "string"
          },
          {
           "name": "F_Statistic / P_Value",
           "type": "string"
          }
         ],
         "pandas_version": "1.4.0",
         "primaryKey": [
          "Geographical_Region"
         ]
        }
       },
       "total_rows": 4,
       "truncation_type": null
      },
      "text/html": [
       "<div>\n",
       "<style scoped>\n",
       "    .dataframe tbody tr th:only-of-type {\n",
       "        vertical-align: middle;\n",
       "    }\n",
       "\n",
       "    .dataframe tbody tr th {\n",
       "        vertical-align: top;\n",
       "    }\n",
       "\n",
       "    .dataframe thead th {\n",
       "        text-align: right;\n",
       "    }\n",
       "</style>\n",
       "<table border=\"1\" class=\"dataframe\">\n",
       "  <thead>\n",
       "    <tr style=\"text-align: right;\">\n",
       "      <th></th>\n",
       "      <th>F_Statistic / P_Value</th>\n",
       "    </tr>\n",
       "    <tr>\n",
       "      <th>Geographical_Region</th>\n",
       "      <th></th>\n",
       "    </tr>\n",
       "  </thead>\n",
       "  <tbody>\n",
       "    <tr>\n",
       "      <th>East</th>\n",
       "      <td>(50.4975764792117, 7.046450528767474e-08)</td>\n",
       "    </tr>\n",
       "    <tr>\n",
       "      <th>North</th>\n",
       "      <td>(45.722317645356284, 1.4439335761931932e-07)</td>\n",
       "    </tr>\n",
       "    <tr>\n",
       "      <th>South</th>\n",
       "      <td>(15.29098339477534, 0.00015869217797857807)</td>\n",
       "    </tr>\n",
       "    <tr>\n",
       "      <th>West</th>\n",
       "      <td>(12.949717442117826, 0.00038280488933885705)</td>\n",
       "    </tr>\n",
       "  </tbody>\n",
       "</table>\n",
       "</div>"
      ],
      "text/plain": [
       "                                            F_Statistic / P_Value\n",
       "Geographical_Region                                              \n",
       "East                    (50.4975764792117, 7.046450528767474e-08)\n",
       "North                (45.722317645356284, 1.4439335761931932e-07)\n",
       "South                 (15.29098339477534, 0.00015869217797857807)\n",
       "West                 (12.949717442117826, 0.00038280488933885705)"
      ]
     },
     "execution_count": 3,
     "metadata": {
      "application/com.datacamp.data-table.v2+json": {
       "status": "success"
      }
     },
     "output_type": "execute_result"
    }
   ],
   "source": [
    "#One Way ANOVA f_oneway\n",
    "grouped_data = energy_design_b.groupby(['Geographical_Region'])\n",
    "test_results = pd.DataFrame(\n",
    "    grouped_data.apply(\n",
    "        lambda x: f_oneway(\n",
    "            x.loc[x['Fuel_Source']=='Natural_Gas','CO2_Emissions'],\n",
    "            x.loc[x['Fuel_Source']=='Biofuel','CO2_Emissions'],\n",
    "            x.loc[x['Fuel_Source']=='Coal','CO2_Emissions'],\n",
    "        )\n",
    "    )\n",
    ").rename(columns={0:'F_Statistic / P_Value'})\n",
    "print('Test results:')\n",
    "test_results"
   ]
  },
  {
   "cell_type": "code",
   "execution_count": 4,
   "id": "6352f39a-b7b0-4b4b-9409-7cd3cda4ed83",
   "metadata": {
    "executionCancelledAt": null,
    "executionTime": 16,
    "lastExecutedAt": 1743712607879,
    "lastExecutedByKernel": "51b4093a-0001-4d25-bff6-9260a2bcc9bf",
    "lastScheduledRunId": null,
    "lastSuccessfullyExecutedCode": "#As a Stats Object\ngrouped_data = energy_design_b.groupby(['Geographical_Region'])\ntest_results = grouped_data.apply(\n    lambda x: f_oneway(\n        x.loc[x['Fuel_Source']=='Natural_Gas','CO2_Emissions'],\n        x.loc[x['Fuel_Source']=='Biofuel','CO2_Emissions'],\n        x.loc[x['Fuel_Source']=='Coal','CO2_Emissions'],\n    )\n)"
   },
   "outputs": [],
   "source": [
    "#As a Stats Object\n",
    "grouped_data = energy_design_b.groupby(['Geographical_Region'])\n",
    "test_results = grouped_data.apply(\n",
    "    lambda x: f_oneway(\n",
    "        x.loc[x['Fuel_Source']=='Natural_Gas','CO2_Emissions'],\n",
    "        x.loc[x['Fuel_Source']=='Biofuel','CO2_Emissions'],\n",
    "        x.loc[x['Fuel_Source']=='Coal','CO2_Emissions'],\n",
    "    )\n",
    ")"
   ]
  },
  {
   "cell_type": "code",
   "execution_count": null,
   "id": "c887206e-6611-45c5-8f4c-afe97b7212c0",
   "metadata": {
    "executionCancelledAt": null,
    "executionTime": 29,
    "lastExecutedAt": 1743712753743,
    "lastExecutedByKernel": "51b4093a-0001-4d25-bff6-9260a2bcc9bf",
    "lastScheduledRunId": null,
    "lastSuccessfullyExecutedCode": "if any(result.pvalue<0.05 for result in test_results):\n    bonferroni_p_values = []\n    \n    for zone in ['North', 'South', 'East', 'West']:\n        fuels = ['Natural_Gas', 'Biofuel', 'Coal']\n        comparison = [(fuels[i], fuels[j]) for i in range(len(fuels)) for j in range( i + 1, len(fuels))]\n        \n        for fuel1, fuel2 in comparison:\n            group1 = energy_design_b.loc[(energy_design_b['Geographical_Region'] == zone) \n                                         & (energy_design_b['Fuel_Source'] == fuel1),'CO2_Emissions']\n            group2 = energy_design_b.loc[(energy_design_b['Geographical_Region'] == zone) \n                                         & (energy_design_b['Fuel_Source'] == fuel2),'CO2_Emissions']\n            _, p_val = ttest_ind(group1,   group2)\n            bonferroni_p_values.append((zone, fuel1, fuel2, p_val))\n    \n    diff_results = multipletests([x[3] for x in bonferroni_p_values], alpha=0.05, method='bonferroni')\nprint(\"Bonferroni Corrected P-values:\", diff_results[1])",
    "outputsMetadata": {
     "0": {
      "height": 80,
      "type": "stream"
     }
    }
   },
   "outputs": [
    {
     "name": "stdout",
     "output_type": "stream",
     "text": [
      "Bonferroni Corrected P-values: [2.97842303e-03 1.60405848e-05 1.51381089e-03 1.95958890e-02\n",
      " 1.04206412e-02 3.71506293e-01 1.17998627e-03 6.31245443e-05\n",
      " 6.41264547e-04 2.69611996e-02 4.30884019e-03 1.00000000e+00]\n"
     ]
    }
   ],
   "source": [
    "#Zone Fue type country tests\n",
    "if any(result.pvalue<0.05 for result in test_results):\n",
    "    bonferroni_p_values = []\n",
    "    \n",
    "    for zone in ['North', 'South', 'East', 'West']:\n",
    "        fuels = ['Natural_Gas', 'Biofuel', 'Coal']\n",
    "        comparison = [(fuels[i], fuels[j]) for i in range(len(fuels)) for j in range( i + 1, len(fuels))]\n",
    "        \n",
    "        for fuel1, fuel2 in comparison:\n",
    "            group1 = energy_design_b.loc[(energy_design_b['Geographical_Region'] == zone) \n",
    "                                         & (energy_design_b['Fuel_Source'] == fuel1),'CO2_Emissions']\n",
    "            group2 = energy_design_b.loc[(energy_design_b['Geographical_Region'] == zone) \n",
    "                                         & (energy_design_b['Fuel_Source'] == fuel2),'CO2_Emissions']\n",
    "            _, p_val = ttest_ind(group1,   group2)\n",
    "            bonferroni_p_values.append((zone, fuel1, fuel2, p_val))\n",
    "    \n",
    "    diff_results = multipletests([x[3] for x in bonferroni_p_values], alpha=0.05, method='bonferroni')\n",
    "print(\"Bonferroni Corrected P-values:\")\n",
    "diff_results[1]"
   ]
  },
  {
   "cell_type": "code",
   "execution_count": null,
   "id": "835a1b91-fe7a-4d41-9ab9-feca56cdcbae",
   "metadata": {
    "executionCancelledAt": null,
    "executionTime": 23,
    "lastExecutedAt": 1743713056437,
    "lastExecutedByKernel": "51b4093a-0001-4d25-bff6-9260a2bcc9bf",
    "lastScheduledRunId": null,
    "lastSuccessfullyExecutedCode": "#Output\nfinal_df = pd.DataFrame({'Zone':[x[0] for x in bonferroni_p_values],\n                         'Fuel_1':[x[1] for x in bonferroni_p_values],\n                         'Fuel_2':[x[2] for x in bonferroni_p_values],\n                         'P_Value':diff_results[1]})\nfinal_df",
    "outputsMetadata": {
     "0": {
      "height": 748,
      "tableState": {
       "customFilter": {
        "const": {
         "type": "boolean",
         "valid": true,
         "value": true
        },
        "id": "7053c754-6947-4dc8-8cef-9b900e1093b7",
        "nodeType": "const"
       }
      },
      "type": "dataFrame"
     }
    }
   },
   "outputs": [
    {
     "data": {
      "application/com.datacamp.data-table.v2+json": {
       "table": {
        "data": {
         "Fuel_1": [
          "Natural_Gas",
          "Natural_Gas",
          "Biofuel",
          "Natural_Gas",
          "Natural_Gas",
          "Biofuel",
          "Natural_Gas",
          "Natural_Gas",
          "Biofuel",
          "Natural_Gas",
          "Natural_Gas",
          "Biofuel"
         ],
         "Fuel_2": [
          "Biofuel",
          "Coal",
          "Coal",
          "Biofuel",
          "Coal",
          "Coal",
          "Biofuel",
          "Coal",
          "Coal",
          "Biofuel",
          "Coal",
          "Coal"
         ],
         "P_Value": [
          0.002978423,
          0.0000160406,
          0.0015138109,
          0.019595889,
          0.0104206412,
          0.3715062935,
          0.0011799863,
          0.0000631245,
          0.0006412645,
          0.0269611996,
          0.0043088402,
          1
         ],
         "Zone": [
          "North",
          "North",
          "North",
          "South",
          "South",
          "South",
          "East",
          "East",
          "East",
          "West",
          "West",
          "West"
         ],
         "index": [
          0,
          1,
          2,
          3,
          4,
          5,
          6,
          7,
          8,
          9,
          10,
          11
         ]
        },
        "schema": {
         "fields": [
          {
           "name": "index",
           "type": "integer"
          },
          {
           "name": "Zone",
           "type": "string"
          },
          {
           "name": "Fuel_1",
           "type": "string"
          },
          {
           "name": "Fuel_2",
           "type": "string"
          },
          {
           "name": "P_Value",
           "type": "number"
          }
         ],
         "pandas_version": "1.4.0",
         "primaryKey": [
          "index"
         ]
        }
       },
       "total_rows": 12,
       "truncation_type": null
      },
      "text/html": [
       "<div>\n",
       "<style scoped>\n",
       "    .dataframe tbody tr th:only-of-type {\n",
       "        vertical-align: middle;\n",
       "    }\n",
       "\n",
       "    .dataframe tbody tr th {\n",
       "        vertical-align: top;\n",
       "    }\n",
       "\n",
       "    .dataframe thead th {\n",
       "        text-align: right;\n",
       "    }\n",
       "</style>\n",
       "<table border=\"1\" class=\"dataframe\">\n",
       "  <thead>\n",
       "    <tr style=\"text-align: right;\">\n",
       "      <th></th>\n",
       "      <th>Zone</th>\n",
       "      <th>Fuel_1</th>\n",
       "      <th>Fuel_2</th>\n",
       "      <th>P_Value</th>\n",
       "    </tr>\n",
       "  </thead>\n",
       "  <tbody>\n",
       "    <tr>\n",
       "      <th>0</th>\n",
       "      <td>North</td>\n",
       "      <td>Natural_Gas</td>\n",
       "      <td>Biofuel</td>\n",
       "      <td>0.002978</td>\n",
       "    </tr>\n",
       "    <tr>\n",
       "      <th>1</th>\n",
       "      <td>North</td>\n",
       "      <td>Natural_Gas</td>\n",
       "      <td>Coal</td>\n",
       "      <td>0.000016</td>\n",
       "    </tr>\n",
       "    <tr>\n",
       "      <th>2</th>\n",
       "      <td>North</td>\n",
       "      <td>Biofuel</td>\n",
       "      <td>Coal</td>\n",
       "      <td>0.001514</td>\n",
       "    </tr>\n",
       "    <tr>\n",
       "      <th>3</th>\n",
       "      <td>South</td>\n",
       "      <td>Natural_Gas</td>\n",
       "      <td>Biofuel</td>\n",
       "      <td>0.019596</td>\n",
       "    </tr>\n",
       "    <tr>\n",
       "      <th>4</th>\n",
       "      <td>South</td>\n",
       "      <td>Natural_Gas</td>\n",
       "      <td>Coal</td>\n",
       "      <td>0.010421</td>\n",
       "    </tr>\n",
       "    <tr>\n",
       "      <th>5</th>\n",
       "      <td>South</td>\n",
       "      <td>Biofuel</td>\n",
       "      <td>Coal</td>\n",
       "      <td>0.371506</td>\n",
       "    </tr>\n",
       "    <tr>\n",
       "      <th>6</th>\n",
       "      <td>East</td>\n",
       "      <td>Natural_Gas</td>\n",
       "      <td>Biofuel</td>\n",
       "      <td>0.001180</td>\n",
       "    </tr>\n",
       "    <tr>\n",
       "      <th>7</th>\n",
       "      <td>East</td>\n",
       "      <td>Natural_Gas</td>\n",
       "      <td>Coal</td>\n",
       "      <td>0.000063</td>\n",
       "    </tr>\n",
       "    <tr>\n",
       "      <th>8</th>\n",
       "      <td>East</td>\n",
       "      <td>Biofuel</td>\n",
       "      <td>Coal</td>\n",
       "      <td>0.000641</td>\n",
       "    </tr>\n",
       "    <tr>\n",
       "      <th>9</th>\n",
       "      <td>West</td>\n",
       "      <td>Natural_Gas</td>\n",
       "      <td>Biofuel</td>\n",
       "      <td>0.026961</td>\n",
       "    </tr>\n",
       "    <tr>\n",
       "      <th>10</th>\n",
       "      <td>West</td>\n",
       "      <td>Natural_Gas</td>\n",
       "      <td>Coal</td>\n",
       "      <td>0.004309</td>\n",
       "    </tr>\n",
       "    <tr>\n",
       "      <th>11</th>\n",
       "      <td>West</td>\n",
       "      <td>Biofuel</td>\n",
       "      <td>Coal</td>\n",
       "      <td>1.000000</td>\n",
       "    </tr>\n",
       "  </tbody>\n",
       "</table>\n",
       "</div>"
      ],
      "text/plain": [
       "     Zone       Fuel_1   Fuel_2   P_Value\n",
       "0   North  Natural_Gas  Biofuel  0.002978\n",
       "1   North  Natural_Gas     Coal  0.000016\n",
       "2   North      Biofuel     Coal  0.001514\n",
       "3   South  Natural_Gas  Biofuel  0.019596\n",
       "4   South  Natural_Gas     Coal  0.010421\n",
       "5   South      Biofuel     Coal  0.371506\n",
       "6    East  Natural_Gas  Biofuel  0.001180\n",
       "7    East  Natural_Gas     Coal  0.000063\n",
       "8    East      Biofuel     Coal  0.000641\n",
       "9    West  Natural_Gas  Biofuel  0.026961\n",
       "10   West  Natural_Gas     Coal  0.004309\n",
       "11   West      Biofuel     Coal  1.000000"
      ]
     },
     "execution_count": 10,
     "metadata": {
      "application/com.datacamp.data-table.v2+json": {
       "status": "success"
      }
     },
     "output_type": "execute_result"
    }
   ],
   "source": [
    "#Output as a df\n",
    "final_df = pd.DataFrame({'Zone':[x[0] for x in bonferroni_p_values],\n",
    "                         'Fuel_1':[x[1] for x in bonferroni_p_values],\n",
    "                         'Fuel_2':[x[2] for x in bonferroni_p_values],\n",
    "                         'P_Value':diff_results[1]})\n",
    "final_df"
   ]
  }
 ],
 "metadata": {
  "colab": {
   "name": "Welcome to DataCamp Workspaces.ipynb",
   "provenance": []
  },
  "editor": "DataLab",
  "kernelspec": {
   "display_name": "Python 3 (ipykernel)",
   "language": "python",
   "name": "python3"
  },
  "language_info": {
   "codemirror_mode": {
    "name": "ipython",
    "version": 3
   },
   "file_extension": ".py",
   "mimetype": "text/x-python",
   "name": "python",
   "nbconvert_exporter": "python",
   "pygments_lexer": "ipython3",
   "version": "3.8.10"
  }
 },
 "nbformat": 4,
 "nbformat_minor": 5
}
