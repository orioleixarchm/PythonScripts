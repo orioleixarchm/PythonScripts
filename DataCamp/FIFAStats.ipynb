{
  "metadata": {
    "kernelspec": {
      "name": "python",
      "display_name": "Python (Pyodide)",
      "language": "python"
    },
    "language_info": {
      "name": ""
    }
  },
  "nbformat_minor": 4,
  "nbformat": 4,
  "cells": [
    {
      "cell_type": "code",
      "source": "# Start your code here!\nimport pandas as pd\nimport matplotlib.pyplot as plt\nimport pingouin\nimport scipy.stats as scp\n\nmen=pd.read_csv(\"men_results.csv\")\nwomen=pd.read_csv(\"women_results.csv\")\n\nmen[\"date\"]=pd.to_datetime(men[\"date\"])\nwomen[\"date\"]=pd.to_datetime(women[\"date\"])\n\nmen_subset=men.query('(date > \"2002-01-01\") & (tournament in (\"FIFA World Cup\"))')\nwomen_subset=women.query('(date > \"2002-01-01\") & (tournament in (\"FIFA World Cup\"))')\n\nmen_subset['group']='men'\nwomen_subset['group']='women'\n\nmen_subset['goals_scored']=men_subset[\"home_score\"] + men_subset[\"away_score\"]\nwomen_subset['goals_scored']=women_subset[\"home_score\"] + women_subset[\"away_score\"]\n\nmen_subset['goals_scored'].hist()\nplt.title('Men Goals Scored')\nplt.show()\nplt.clf()\nwomen_subset['goals_scored'].hist()\nplt.title('Women Goals Scored')\nplt.show()\nplt.clf()\n\nboth=pd.concat([men_subset,women_subset], axis=0, ignore_index=True)\nboth_subset=both[[\"group\",\"goals_scored\"]]\nboth_subset_wide=pd.pivot(data=both_subset,columns=\"group\", values=\"goals_scored\")\n\n# Perform right-tailed Wilcoxon-Mann-Whitney test with pingouin\nresults_pg = pingouin.mwu(x=both_subset_wide[\"women\"],\n                          y=both_subset_wide[\"men\"],\n                          alternative=\"greater\")\n\n# Alternative SciPy solution: Perform right-tailed Wilcoxon-Mann-Whitney test with scipy\nresults_scipy = scp.mannwhitneyu(x=women_subset[\"goals_scored\"],\n                             y=men_subset[\"goals_scored\"],\n                             alternative=\"greater\")\n\np_val=results_pg['p-val'].values[0]\n\nif p_val <= 0.1 :\n    result = 'reject'\nelse:\n    result= 'fail to reject'\n    \nresult_dict = {\"p_val\": p_val, \"result\": result}",
      "metadata": {
        "trusted": true
      },
      "outputs": [],
      "execution_count": null
    }
  ]
}