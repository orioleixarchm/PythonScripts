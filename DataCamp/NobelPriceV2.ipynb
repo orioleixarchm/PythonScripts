{
  "metadata": {
    "kernelspec": {
      "name": "python",
      "display_name": "Python (Pyodide)",
      "language": "python"
    },
    "language_info": {
      "name": ""
    }
  },
  "nbformat_minor": 4,
  "nbformat": 4,
  "cells": [
    {
      "cell_type": "code",
      "source": "# Loading in required libraries\nimport pandas as pd\nimport seaborn as sns\nimport numpy as np\nimport matplotlib.pyplot as plt\n\n# Read in the Nobel Prize data\nnobel = pd.read_csv('data/nobel.csv')\nnobel.head()\n\n# Store and display the most commonly awarded gender and birth country in requested variables\ntop_gender = nobel['sex'].value_counts().idxmax()\ntop_gender_value=nobel[\"sex\"].value_counts().max()\ntop_country = nobel['birth_country'].value_counts().idxmax()\ntop_country_value= nobel[\"birth_country\"].value_counts().max()\n\nnobel[\"decade\"]=np.floor(nobel[\"year\"]/10)*10\ndecade_winners=nobel[\"decade\"].value_counts()\n\ndecade_winners_yankies=nobel.query('birth_country==\"United States of America\"')[\"decade\"].value_counts()\ndecade_winners_yankies_prop=decade_winners_yankies/decade_winners\nmax_decade_usa=decade_winners_yankies_prop.idxmax()\nmax_decade_usa_value=decade_winners_yankies_prop.max()\nplt.plot(decade_winners_yankies_prop.index,decade_winners_yankies_prop.values)\nplt.title(\"Proportion of Yankee Laureates per decade\")\nplt.xlabel(\"Decade\")\nplt.ylabel(\"% of USA Laureates\")\n\nprint(\"The decade with more yankee laureates proportionally was \"+str(round(max_decade_usa))+\", the proportion was \"+str(round(max_decade_usa_value,1))+\"%.\")\n\n#decade_winners_category=nobel.groupby([\"decade\",\"category\"]).count().sort_values(by=[\"decade\",\"category\"], ascending=[False,False])\ndecade_winners_cat=nobel[[\"decade\",\"category\"]].value_counts().rename(\"count_all\")\ndecade_winners_cat_women=nobel.query('sex==\"Female\"')[[\"decade\",\"category\"]].value_counts().rename(\"count_women\")\n\n#If they had the same size, but they do not.\ndecade_winners_cat_women.shape==decade_winners_cat.shape\ndecade_winners_cat_women_prop=decade_winners_cat_women/decade_winners_cat\nmax_decade_winners_cat_women_prop=decade_winners_cat_women_prop.idxmax()\nmax_decade_winners_cat_women_prop_value=decade_winners_cat_women_prop.max()\n\n#Different sizes, join is required; joins do not work with Series, we need pd dataframes\ndecade_winners_cat=decade_winners_cat.reset_index()\ndecade_winners_cat_women=decade_winners_cat_women.reset_index()\nmerged_data=pd.merge(decade_winners_cat,decade_winners_cat_women, on=[\"decade\",\"category\"],suffixes=[\"_all\",\"_women\"], how=\"left\").fillna(0)\n\nmerged_data[\"women_prop\"]=merged_data[\"count_women\"]/merged_data[\"count_all\"]\nmax_decade_winners_cat_women_prop_value=merged_data[\"women_prop\"].max()\nmax_decade_winners_cat_women_prop=merged_data.loc[merged_data[\"women_prop\"]==merged_data[\"women_prop\"].max(),[\"decade\",\"category\"]]\n\nprint(\"The decade with more women laureates proportionally was \"+str(round(max_decade_winners_cat_women_prop.values[0][0]))+\" in the category \"+max_decade_winners_cat_women_prop.values[0][1]+\" the proportion was \"+str(max_decade_winners_cat_women_prop_value)+\"%.\")\n\nfirst_women_year=nobel.loc[nobel[\"sex\"]==\"Female\",[\"year\"]].sort_values(by=[\"year\"], ascending=[True]).min().values[0]\nfirst_woman_name=nobel.loc[(nobel[\"sex\"]==\"Female\") & (nobel[\"year\"]==first_women_year),[\"full_name\"]].values[0][0]\nfirst_woman_category=nobel.loc[(nobel[\"sex\"]==\"Female\") & (nobel[\"year\"]==first_women_year),[\"category\"]].values[0][0]\nprint(\"The year in which we find the first female Laureate is \"+str(round(first_women_year))+\" in the category \"+first_woman_category+\" her name was \"+first_woman_name+\".\")\n\nrepeat_list=nobel.loc[nobel.duplicated(subset=[\"full_name\"]),\"full_name\"]\n#or using direct indexing: repeat_list=nobel[nobel.duplicated(subset=[\"full_name\"])][\"full_name\"]\nduplicates=nobel.duplicated(subset=[\"full_name\"]).sum()\nprint(\"There are \"+str(duplicates)+\" institutions or individuals that won the prize more than once; those are: \")\nprint(repeat_list)",
      "metadata": {
        "trusted": true
      },
      "outputs": [],
      "execution_count": null
    }
  ]
}
