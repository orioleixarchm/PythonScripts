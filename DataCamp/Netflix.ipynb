{
  "metadata": {
    "kernelspec": {
      "name": "python",
      "display_name": "Python (Pyodide)",
      "language": "python"
    },
    "language_info": {
      "name": ""
    }
  },
  "nbformat_minor": 4,
  "nbformat": 4,
  "cells": [
    {
      "cell_type": "code",
      "source": "# Importing pandas and matplotlib\nimport pandas as pd\nimport numpy as np\nimport matplotlib.pyplot as plt\n\n# Start coding!\n# Preparing data\nnetflix_df=pd.read_csv(\"netflix_data.csv\")\nnetflix_df.head()\nnetflix_subset=netflix_df[netflix_df[\"type\"]!=\"TV Show\"]\nnetflix_subset.head()\nnetflix_movies=netflix_subset[[\"title\", \"country\", \"genre\", \"release_year\", \"duration\"]]\nnetflix_movies.head()\nshort_movies=netflix_movies[netflix_movies[\"duration\"]<60]\nshort_movies.head()\n\n#Possible explanation based on genre\nprint(short_movies.value_counts(\"genre\"))\n\n#Start list\ncolors=[]\n\n#Full list\nfor i,row in netflix_movies.iterrows():\n    if row[\"genre\"]==\"Children\":\n        colors.append(\"red\")\n    elif row[\"genre\"]==\"Documentaries\":\n        colors.append(\"green\")\n    elif row[\"genre\"]==\"Stand-Up\":\n        colors.append(\"blue\")\n    else:\n        colors.append(\"grey\")\n        \n#Check\nprint(np.unique(colors))\n\n#Visualization\nfig=plt.figure(figsize=(12,8))\nplt.scatter(netflix_movies.release_year,netflix_movies.duration, c=colors)\nplt.title(\"Movie Duration by Year of Release\")\nplt.xlabel(\"Release year\")\nplt.ylabel(\"Duration (min)\")\nplt.show()\n\n# Are we certain that movies are getting shorter?\nanswer = \"no\"\n\n",
      "metadata": {
        "trusted": true
      },
      "outputs": [],
      "execution_count": null
    }
  ]
}