{
  "metadata": {
    "kernelspec": {
      "name": "python",
      "display_name": "Python (Pyodide)",
      "language": "python"
    },
    "language_info": {
      "name": ""
    }
  },
  "nbformat_minor": 4,
  "nbformat": 4,
  "cells": [
    {
      "cell_type": "code",
      "source": "# Loading in required libraries\nimport pandas as pd\nimport seaborn as sns\nimport numpy as np\n\n# Read in the Nobel Prize data\nnobel = pd.read_csv('data/nobel.csv')\n\n# Store and display the most commonly awarded gender and birth country in requested variables\ntop_gender = nobel['sex'].value_counts().index[0]\ntop_country = nobel['birth_country'].value_counts().index[0]\n\nprint(\"\\n The gender with the most Nobel laureates is :\", top_gender)\nprint(\" The most common birth country of Nobel laureates is :\", top_country)\n\n# Calculate the proportion of USA born winners per decade\nnobel['usa_born_winner'] = nobel['birth_country'] == 'United States of America'\nnobel['decade'] = (np.floor(nobel['year'] / 10) * 10).astype(int)\nprop_usa_winners = nobel.groupby('decade', as_index=False)['usa_born_winner'].mean()\n\n# Identify the decade with the highest proportion of US-born winners\nmax_decade_usa = prop_usa_winners[prop_usa_winners['usa_born_winner'] == prop_usa_winners['usa_born_winner'].max()]['decade'].values[0]\n\n# Optional: Plotting USA born winners\nax1 = sns.relplot(x='decade', y='usa_born_winner', data=prop_usa_winners, kind=\"line\")\n\n# Calculating the proportion of female laureates per decade\nnobel['female_winner'] = nobel['sex'] == 'Female'\nprop_female_winners = nobel.groupby(['decade', 'category'], as_index=False)['female_winner'].mean()\n\n# Find the decade and category with the highest proportion of female laureates\nmax_female_decade_category = prop_female_winners[prop_female_winners['female_winner'] == prop_female_winners['female_winner'].max()][['decade', 'category']]\n\n# Create a dictionary with the decade and category pair\nmax_female_dict = {max_female_decade_category['decade'].values[0]: max_female_decade_category['category'].values[0]}\n\n# Optional: Plotting female winners with % winners on the y-axis\nax2 = sns.relplot(x='decade', y='female_winner', hue='category', data=prop_female_winners, kind=\"line\")\n\n# Finding the first woman to win a Nobel Prize\nnobel_women = nobel[nobel['female_winner']]\nmin_row = nobel_women[nobel_women['year'] == nobel_women['year'].min()]\nfirst_woman_name = min_row['full_name'].values[0]\nfirst_woman_category = min_row['category'].values[0]\nprint(f\"\\n The first woman to win a Nobel Prize was {first_woman_name}, in the category of {first_woman_category}.\")\n\n# Selecting the laureates that have received 2 or more prizes\ncounts = nobel['full_name'].value_counts()\nrepeats = counts[counts >= 2].index\nrepeat_list = list(repeats)\n\nprint(\"\\n The repeat winners are :\", repeat_list)\n",
      "metadata": {
        "trusted": true
      },
      "outputs": [],
      "execution_count": null
    }
  ]
}