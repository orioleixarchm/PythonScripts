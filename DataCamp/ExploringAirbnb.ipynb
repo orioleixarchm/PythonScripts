{
  "metadata": {
    "kernelspec": {
      "name": "python",
      "display_name": "Python (Pyodide)",
      "language": "python"
    },
    "language_info": {
      "name": ""
    }
  },
  "nbformat_minor": 4,
  "nbformat": 4,
  "cells": [
    {
      "cell_type": "code",
      "source": "import numpy as np\nimport pandas as pd\n\nprice_rw=pd.read_csv('data/airbnb_price.csv')\nroom_rw=pd.read_excel('data/airbnb_room_type.xlsx')\nreview_rw=pd.read_csv('data/airbnb_last_review.tsv',delimiter='\\t')\n\nprice=price_rw.copy()\nroom=room_rw.copy()\nreview=review_rw.copy()\n\nlistings=pd.merge(price,room, on=\"listing_id\")\nlistings=pd.merge(listings,review, on=\"listing_id\")\n\nfirst_reviewed=pd.to_datetime(listings['last_review'], format='%B %d %Y').min()\nlast_reviewed=pd.to_datetime(listings['last_review'], format='%B %d %Y').max()\n\nlistings['room_type']=listings['room_type'].str.lower()\nprivate_room_count = listings.query('room_type==\"private room\"').shape[0]\n\navg_price=round(listings['price'].str.replace(' dollars','').astype(float).mean(),2)\n\nreview_dates = pd.DataFrame({\n    'first_reviewed': [first_reviewed],\n    'last_reviewed': [last_reviewed],\n    'nb_private_rooms': [private_room_count],\n    'avg_price': [avg_price]\n})\n\nprint(review_dates)",
      "metadata": {
        "trusted": true
      },
      "outputs": [],
      "execution_count": null
    }
  ]
}