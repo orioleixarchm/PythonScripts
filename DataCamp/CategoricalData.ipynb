{
  "metadata": {
    "kernelspec": {
      "name": "python",
      "display_name": "Python (Pyodide)",
      "language": "python"
    },
    "language_info": {
      "name": ""
    }
  },
  "nbformat_minor": 4,
  "nbformat": 4,
  "cells": [
    {
      "cell_type": "code",
      "source": "import pandas as pd\n\ndf=pd.read_csv('customer_train.csv')\ndf_clean=df.copy()\n\nord_cats={\n    'relevant_experience': ['No relevant experience', 'Has relevant experience'],\n    'enrolled_university': ['no_enrollment', 'Part time course', 'Full time course'],\n    'education_level': ['Primary School', 'High School', 'Graduate', 'Masters', 'Phd'],\n    'experience': ['<1']+list(map(str,range(1,21)))+['>20'],\n    'company_size': ['<10', '10-49', '50-99', '100-499', '500-999', '1000-4999', '5000-9999', '10000+'],\n    'last_new_job': ['never', '1', '2', '3', '4', '>4']\n}\n\nfor col in df_clean:\n    if df_clean[col].dtype=='int':\n         df_clean[col]=df_clean[col].astype('int32')\n    \n    elif df_clean[col].dtype=='float':\n         df_clean[col]=df_clean[col].astype('float16')\n\n    elif col in ord_cats.keys():\n        category=pd.CategoricalDtype(ord_cats[col], ordered=True)\n        df_clean[col]=df_clean[col].astype(category)\n    \n    else:\n         df_clean[col]= df_clean[col].astype('category')\n\ndf_clean=df_clean[(df_clean['experience']>='10') & (df_clean['company_size']>='1000-4999')]  \nprint(df_clean.head())",
      "metadata": {
        "trusted": true
      },
      "outputs": [],
      "execution_count": null
    }
  ]
}