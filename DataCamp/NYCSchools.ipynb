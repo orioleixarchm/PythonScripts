{
  "metadata": {
    "kernelspec": {
      "name": "python",
      "display_name": "Python (Pyodide)",
      "language": "python"
    },
    "language_info": {
      "name": ""
    }
  },
  "nbformat_minor": 4,
  "nbformat": 4,
  "cells": [
    {
      "cell_type": "code",
      "source": "# Re-run this cell \nimport pandas as pd\n\n# Read in the data\nschools = pd.read_csv(\"schools.csv\")\n\n# Preview the data\nschools.head()\n\n# Start coding here...\nschools[\"total_SAT\"] = schools[\"average_math\"] + schools[\"average_reading\"] + schools[\"average_writing\"]\n\nbest_math_schools=schools[schools[\"average_math\"]>=640][[\"school_name\",\"average_math\"]].sort_values(\"average_math\", ascending=False)\n\ntop_10_schools=schools[[\"school_name\",\"total_SAT\"]].sort_values(\"total_SAT\",ascending=False).head(10)\n\nborough=schools.groupby(\"borough\")[\"total_SAT\"].agg([\"count\",\"mean\",\"std\"]).round(2)\n\nlargest_std_dev=borough[borough[\"std\"]==borough[\"std\"].max()]\nlargest_std_dev=largest_std_dev.rename(columns={\"count\":\"num_schools\",\"mean\":\"average_SAT\",\"std\":\"std_SAT\"})",
      "metadata": {
        "trusted": true
      },
      "outputs": [],
      "execution_count": null
    }
  ]
}