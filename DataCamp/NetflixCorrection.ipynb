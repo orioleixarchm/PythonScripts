{
  "metadata": {
    "kernelspec": {
      "name": "python",
      "display_name": "Python (Pyodide)",
      "language": "python"
    },
    "language_info": {
      "name": ""
    }
  },
  "nbformat_minor": 4,
  "nbformat": 4,
  "cells": [
    {
      "cell_type": "code",
      "source": "# Importing pandas and matplotlib\nimport pandas as pd\nimport matplotlib.pyplot as plt\n\n# Read in the Netflix CSV as a DataFrame\nnetflix_df = pd.read_csv(\"netflix_data.csv\")\n\n# Subset the DataFrame for type \"Movie\"\nnetflix_subset = netflix_df[netflix_df[\"type\"] == \"Movie\"]\n\n# Select only the columns of interest\nnetflix_movies = netflix_subset[[\"title\", \"country\", \"genre\", \"release_year\", \"duration\"]]\n\n# Filter for durations shorter than 60 minutes\nshort_movies = netflix_movies[netflix_movies.duration < 60]\n\n# Define an empty list\ncolors = []\n\n# Iterate over rows of netflix_movies\nfor label, row in netflix_movies.iterrows() :\n    if row[\"genre\"] == \"Children\" :\n        colors.append(\"red\")\n    elif row[\"genre\"] == \"Documentaries\" :\n        colors.append(\"blue\")\n    elif row[\"genre\"] == \"Stand-Up\":\n        colors.append(\"green\")\n    else:\n        colors.append(\"black\")\n        \n# Inspect the first 10 values in your list        \ncolors[:10]\n\n# Set the figure style and initalize a new figure\nfig = plt.figure(figsize=(12,8))\n\n# Create a scatter plot of duration versus release_year\nplt.scatter(netflix_movies.release_year, netflix_movies.duration, c=colors)\n\n# Create a title and axis labels\nplt.title(\"Movie Duration by Year of Release\")\nplt.xlabel(\"Release year\")\nplt.ylabel(\"Duration (min)\")\n\n# Show the plot\nplt.show()\n\n# Are we certain that movies are getting shorter?\nanswer = \"no\"",
      "metadata": {
        "trusted": true
      },
      "outputs": [],
      "execution_count": null
    }
  ]
}