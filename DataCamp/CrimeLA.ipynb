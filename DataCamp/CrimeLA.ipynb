{
  "metadata": {
    "kernelspec": {
      "name": "python",
      "display_name": "Python (Pyodide)",
      "language": "python"
    },
    "language_info": {
      "name": ""
    }
  },
  "nbformat_minor": 4,
  "nbformat": 4,
  "cells": [
    {
      "cell_type": "code",
      "source": "# Re-run this cell\n# Import required libraries\nimport pandas as pd\nimport numpy as np\nimport matplotlib.pyplot as plt\nimport seaborn as sns\ncrimes = pd.read_csv(\"crimes.csv\", parse_dates=[\"Date Rptd\", \"DATE OCC\"], dtype={\"TIME OCC\": str})\ncrimes.head()\ncrimes[\"TIME OCC\"]=crimes[\"TIME OCC\"].str[:2].astype(\"int\")\npeak_crime_hour=crimes[\"TIME OCC\"].value_counts(normalize=True).idxmax()\npeak_crime_hour_value=crimes[\"TIME OCC\"].value_counts(normalize=True).max()\n\npeak_night_crime_location=crimes.loc[(crimes[\"TIME OCC\"]>=22) | (crimes[\"TIME OCC\"]<=4),\"LOCATION\"].value_counts(normalize=True).idxmax()\npeak_night_crime_location_clean=' '.join(peak_night_crime_location.split())\npeak_night_crime_location_value=crimes.loc[(crimes[\"TIME OCC\"]>=22) | (crimes[\"TIME OCC\"]<=4),\"LOCATION\"].value_counts(normalize=True).max()\n\ncrimes_clean=crimes[crimes['Vict Age'] >= 0]\nfor index, row in crimes_clean.iterrows():\n    if (row['Vict Age'] < 18):\n        crimes_clean.at[index, 'Age Group'] = '0-17'\n    elif (row['Vict Age'] >= 18) & (row['Vict Age'] < 26):\n        crimes_clean.at[index, 'Age Group'] = '18-25'\n    elif (row['Vict Age'] >= 26) & (row['Vict Age'] < 35):\n        crimes_clean.at[index, 'Age Group'] = '26-34'\n    elif (row['Vict Age'] >= 35) & (row['Vict Age'] < 45):\n        crimes_clean.at[index, 'Age Group'] = '35-44'\n    elif (row['Vict Age'] >= 45) & (row['Vict Age'] < 55):\n        crimes_clean.at[index, 'Age Group'] = '45-54'\n    elif (row['Vict Age'] >= 55) & (row['Vict Age'] < 65):\n        crimes_clean.at[index, 'Age Group'] = '55-64'\n    elif row['Vict Age']>=65:\n        crimes_clean.at[index,'Age Group'] = '+65'\n    else:\n        crimes_clean.at[index, 'Age Group'] = 'Unknown'\nvictim_ages=crimes_clean[\"Age Group\"].value_counts().sort_index()\n\n\nprint(\"The hour with higher criminality rate is \" + str(peak_crime_hour) + \" with \" + str(round(peak_crime_hour_value*100,2)) + \"% of crimes being ommited.\")\nprint(\"The location with higher night criminality rate is \" + peak_night_crime_location_clean + \" with \" + str(round(peak_night_crime_location_value*100,2)) + \"% of crimes being ommited.\")\nprint(\"The crime amount by age group is:\")\nprint(victim_ages)",
      "metadata": {
        "trusted": true
      },
      "outputs": [],
      "execution_count": null
    }
  ]
}