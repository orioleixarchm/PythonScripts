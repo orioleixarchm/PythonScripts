{
  "metadata": {
    "kernelspec": {
      "name": "python",
      "display_name": "Python (Pyodide)",
      "language": "python"
    },
    "language_info": {
      "name": ""
    }
  },
  "nbformat_minor": 4,
  "nbformat": 4,
  "cells": [
    {
      "cell_type": "code",
      "source": "# Imports\nimport pandas as pd\nimport matplotlib.pyplot as plt\nimport pingouin\nfrom scipy.stats import mannwhitneyu\n\n# Load men's and women's datasets\nmen = pd.read_csv(\"men_results.csv\")\nwomen = pd.read_csv(\"women_results.csv\")\n\n# Filter the data for the time range and tournament\nmen[\"date\"] = pd.to_datetime(men[\"date\"])\nmen_subset = men[(men[\"date\"] > \"2002-01-01\") & (men[\"tournament\"].isin([\"FIFA World Cup\"]))]\nwomen[\"date\"] = pd.to_datetime(women[\"date\"])\nwomen_subset = women[(women[\"date\"] > \"2002-01-01\") & (women[\"tournament\"].isin([\"FIFA World Cup\"]))]\n\n# Create group and goals_scored columns\nmen_subset[\"group\"] = \"men\"\nwomen_subset[\"group\"] = \"women\"\nmen_subset[\"goals_scored\"] = men_subset[\"home_score\"] + men_subset[\"away_score\"]\nwomen_subset[\"goals_scored\"] = women_subset[\"home_score\"] + women_subset[\"away_score\"]\n\n# Determine normality using histograms\nmen_subset[\"goals_scored\"].hist()\nplt.show()\nplt.clf()\n\n# Goals scored is not normally distributed, so use Wilcoxon-Mann-Whitney test of two groups\nmen_subset[\"goals_scored\"].hist()\nplt.show()\nplt.clf()\n\n# Combine women's and men's data and calculate goals scored in each match\nboth = pd.concat([women_subset, men_subset], axis=0, ignore_index=True)\n\n# Transform the data for the pingouin Mann-Whitney U t-test/Wilcoxon-Mann-Whitney test\nboth_subset = both[[\"goals_scored\", \"group\"]]\nboth_subset_wide = both_subset.pivot(columns=\"group\", values=\"goals_scored\")\n\n# Perform right-tailed Wilcoxon-Mann-Whitney test with pingouin\nresults_pg = pingouin.mwu(x=both_subset_wide[\"women\"],\n                          y=both_subset_wide[\"men\"],\n                          alternative=\"greater\")\n\n# Alternative SciPy solution: Perform right-tailed Wilcoxon-Mann-Whitney test with scipy\nresults_scipy = mannwhitneyu(x=women_subset[\"goals_scored\"],\n                             y=men_subset[\"goals_scored\"],\n                             alternative=\"greater\")\n\n# Extract p-value as a float\np_val = results_pg[\"p-val\"].values[0]\n\n# Determine hypothesis test result using sig. level\nif p_val <= 0.01:\n    result = \"reject\"\nelse:\n    result = \"fail to reject\"\n\nresult_dict = {\"p_val\": p_val, \"result\": result}",
      "metadata": {
        "trusted": true
      },
      "outputs": [],
      "execution_count": null
    }
  ]
}