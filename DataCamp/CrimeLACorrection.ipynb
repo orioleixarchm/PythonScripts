{
  "metadata": {
    "kernelspec": {
      "name": "python",
      "display_name": "Python (Pyodide)",
      "language": "python"
    },
    "language_info": {
      "name": ""
    }
  },
  "nbformat_minor": 4,
  "nbformat": 4,
  "cells": [
    {
      "cell_type": "code",
      "source": "# Import required libraries\nimport pandas as pd\nimport numpy as np\nimport matplotlib.pyplot as plt\nimport seaborn as sns\n\n# Read in and preview the dataset\ncrimes = pd.read_csv(\"crimes.csv\", parse_dates=[\"Date Rptd\", \"DATE OCC\"], dtype={\"TIME OCC\": str})\ncrimes.head()\n\n## Which hour has the highest frequency of crimes? Store as an integer variable called peak_crime_hour\n\n# Extract the first two digits from \"TIME OCC\", representing the hour,\n# and convert to integer data type\ncrimes[\"HOUR OCC\"] = crimes[\"TIME OCC\"].str[:2].astype(int)\n\n# Preview the DataFrame to confirm the new column is correct\ncrimes.head()\n\n# Produce a countplot to find the largest frequency of crimes by hour\nsns.countplot(data=crimes, x=\"HOUR OCC\")\nplt.show()\n\n# Midday has the largest volume of crime\npeak_crime_hour = 12\n\n## Which area has the largest frequency of night crimes (crimes committed between 10pm and 3:59am)? \n## Save as a string variable called peak_night_crime_location\n# Filter for the night-time hours\n# 0 = midnight; 3 = crimes between 3am and 3:59am, i.e., don't include 4\nnight_time = crimes[crimes[\"HOUR OCC\"].isin([22,23,0,1,2,3])]\n\n# Group by \"AREA NAME\" and count occurrences, filtering for the largest value and saving the \"AREA NAME\"\npeak_night_crime_location = night_time.groupby(\"AREA NAME\", \n                                               as_index=False)[\"HOUR OCC\"].count().sort_values(\"HOUR OCC\",\n                                                                                               ascending=False).iloc[0][\"AREA NAME\"]\n# Print the peak night crime location\nprint(f\"The area with the largest volume of night crime is {peak_night_crime_location}\")\n\n## Identify the number of crimes committed against victims by age group (0-17, 18-25, 26-34, 35-44, 45-54, 55-64, 65+) \n## Save as a pandas Series called victim_ages\n# Create bins and labels for victim age ranges\nage_bins = [0, 17, 25, 34, 44, 54, 64, np.inf]\nage_labels = [\"0-17\", \"18-25\", \"26-34\", \"35-44\", \"45-54\", \"55-64\", \"65+\"]\n\n# Add a new column using pd.cut() to bin values into discrete intervals\ncrimes[\"Age Bracket\"] = pd.cut(crimes[\"Vict Age\"],\n                               bins=age_bins,\n                               labels=age_labels)\n\n# Find the category with the largest frequency\nvictim_ages = crimes[\"Age Bracket\"].value_counts()\nprint(victim_ages)",
      "metadata": {
        "trusted": true
      },
      "outputs": [],
      "execution_count": null
    }
  ]
}